{
 "cells": [
  {
   "cell_type": "code",
   "execution_count": null,
   "id": "ba165a8b-4d23-453c-93f1-8de8e378cb68",
   "metadata": {},
   "outputs": [],
   "source": [
    "import os"
   ]
  },
  {
   "cell_type": "code",
   "execution_count": null,
   "id": "841c0836-d251-433e-bcfa-b5881d9b29d6",
   "metadata": {},
   "outputs": [],
   "source": [
    "import torch\n",
    "import torch.nn as nn\n",
    "\n",
    "if torch.cuda.is_available():\n",
    "    print(\"Model moved to GPU\")\n",
    "else:\n",
    "    print(\"GPU is not available, using CPU instead\")"
   ]
  },
  {
   "cell_type": "code",
   "execution_count": null,
   "id": "1cb8f881-4cfc-4682-9b49-30d30403e054",
   "metadata": {},
   "outputs": [],
   "source": [
    "# Download YOLOv7 repository and install requirements\n",
    "#!git clone https://github.com/WongKinYiu/yolov7"
   ]
  },
  {
   "cell_type": "code",
   "execution_count": null,
   "id": "e02d83f3-9abc-4356-99d5-df33a2381db0",
   "metadata": {},
   "outputs": [],
   "source": [
    "#%cd yolov7\n",
    "#!pip install -r requirements.txt"
   ]
  },
  {
   "cell_type": "markdown",
   "id": "a98a3b8f-0be0-420d-ae12-52faa8bc9ab1",
   "metadata": {},
   "source": [
    "## Prepare image path in txt file"
   ]
  },
  {
   "cell_type": "code",
   "execution_count": null,
   "id": "3eb93558-7e4f-49f9-aefd-de35c7a52a03",
   "metadata": {},
   "outputs": [],
   "source": [
    "train_img_path = \"/home/monsurali/Downloads/YOLOV7 training-2/data/images/train\"\n",
    "val_img_path = \"/home/monsurali/Downloads/YOLOV7 training-2/data/images/val\"\n",
    "test_img_path = \"/home/monsurali/Downloads/YOLOV7 training-2/data/images/test\""
   ]
  },
  {
   "cell_type": "code",
   "execution_count": null,
   "id": "bba92808-e61b-4c8c-8765-ba2ec6795303",
   "metadata": {},
   "outputs": [],
   "source": [
    "#Training images\n",
    "with open('train.txt', \"a+\") as f:\n",
    "  img_list = os.listdir(train_img_path)\n",
    "  for img in img_list:\n",
    "    f.write(os.path.join(train_img_path,img+'\\n'))\n",
    "  print(\"Done\")"
   ]
  },
  {
   "cell_type": "code",
   "execution_count": null,
   "id": "87342c1a-7096-4df6-b0ce-dec084dd58f2",
   "metadata": {},
   "outputs": [],
   "source": [
    "# Validation Image\n",
    "with open('val.txt', \"a+\") as f:\n",
    "  img_list = os.listdir(val_img_path)\n",
    "  for img in img_list:\n",
    "    f.write(os.path.join(val_img_path,img+'\\n'))\n",
    "  print(\"Done\")"
   ]
  },
  {
   "cell_type": "code",
   "execution_count": null,
   "id": "dfaf516e-c7fe-473c-9129-82bdb664c2ba",
   "metadata": {},
   "outputs": [],
   "source": [
    "# test Image\n",
    "with open('test.txt', \"a+\") as f:\n",
    "  img_list = os.listdir(test_img_path)\n",
    "  for img in img_list:\n",
    "    f.write(os.path.join(test_img_path,img+'\\n'))\n",
    "  print(\"Done\")"
   ]
  },
  {
   "cell_type": "code",
   "execution_count": null,
   "id": "3d922241-3bfa-4abb-be01-4b8a22d5b53f",
   "metadata": {},
   "outputs": [],
   "source": [
    "%cp /home/monsurali/Downloads/YOLOV7\\ training-2/yolov7/data/coco.yaml /home/monsurali/Downloads/YOLOV7\\ training-2/yolov7/data/custom.yaml"
   ]
  },
  {
   "cell_type": "markdown",
   "id": "d7428246-667f-427a-8c41-31f15e81b6f1",
   "metadata": {},
   "source": [
    "## Download Pretrained weight"
   ]
  },
  {
   "cell_type": "code",
   "execution_count": null,
   "id": "d93a3b9a-6acf-4f67-995a-dea866ef7f86",
   "metadata": {},
   "outputs": [],
   "source": [
    "# download COCO starting checkpoint\n",
    "%cd /home/monsurali/Downloads/YOLOV7 training-2/yolov7\n",
    "!wget \"https://github.com/WongKinYiu/yolov7/releases/download/v0.1/yolov7.pt\""
   ]
  },
  {
   "cell_type": "code",
   "execution_count": null,
   "id": "81438cbf-c86a-4ffd-976e-78889750e3b6",
   "metadata": {},
   "outputs": [],
   "source": [
    "cp /home/monsurali/Downloads/YOLOV7\\ training-2/yolov7/cfg/training/yolov7.yaml /home/monsurali/Downloads/YOLOV7\\ training-2/yolov7/cfg/training/custom_yolov7.yaml"
   ]
  },
  {
   "cell_type": "markdown",
   "id": "ffada39d-6f0a-4383-aee3-d8098deca630",
   "metadata": {},
   "source": [
    "## Begin Training"
   ]
  },
  {
   "cell_type": "code",
   "execution_count": null,
   "id": "b0afc566-77cc-4157-9ac1-162714c7701e",
   "metadata": {},
   "outputs": [],
   "source": [
    "!python /home/monsurali/Downloads/YOLOV7\\ training-2/yolov7/train.py --batch 8 --cfg /home/monsurali/Downloads/YOLOV7\\ training-2/yolov7/cfg/training/custom_yolov7.yaml --epochs 300 --data /home/monsurali/Downloads/YOLOV7\\ training-2/yolov7/data/custom.yaml --weights 'yolov7.pt' --device 0 "
   ]
  },
  {
   "cell_type": "markdown",
   "id": "ed2388fc-c78d-41d1-9bea-8c2d63dd62e9",
   "metadata": {},
   "source": [
    "## Evaluation & Inference"
   ]
  },
  {
   "cell_type": "code",
   "execution_count": null,
   "id": "1dc1e211-a5e5-4f87-84e8-13703d7a01e0",
   "metadata": {},
   "outputs": [],
   "source": [
    "from PIL import Image\n",
    "\n",
    "# Open the image\n",
    "image_path = '/home/monsurali/Downloads/YOLOV7 training-2/yolov7/runs/train/exp/confusion_matrix.png'\n",
    "image = Image.open(image_path)\n",
    "\n",
    "# Display the image using any suitable method\n",
    "image.show()\n"
   ]
  },
  {
   "cell_type": "code",
   "execution_count": null,
   "id": "e302db9f-6a38-464a-bcad-ca7706417f21",
   "metadata": {},
   "outputs": [],
   "source": [
    "from IPython.display import Image\n",
    "\n",
    "image_path = '/home/monsurali/Downloads/YOLOV7 training-2/yolov7/runs/train/exp/confusion_matrix.png'\n",
    "Image(filename=image_path, width=600)\n"
   ]
  },
  {
   "cell_type": "code",
   "execution_count": null,
   "id": "6d45e3d2-f4d3-4da9-a9e7-b61acd4c0f5b",
   "metadata": {},
   "outputs": [],
   "source": [
    "from IPython.display import Image\n",
    "\n",
    "image_path = '/home/monsurali/Downloads/YOLOV7 training-2/yolov7/runs/train/exp/results.png'\n",
    "Image(filename=image_path, width=600)\n"
   ]
  },
  {
   "cell_type": "code",
   "execution_count": null,
   "id": "f6e1e40a-3d52-4cfb-aba2-ae3295010a5e",
   "metadata": {},
   "outputs": [],
   "source": [
    "%cd /home/monsurali/Downloads/YOLOV7 training-2/yolov7"
   ]
  },
  {
   "cell_type": "markdown",
   "id": "7647bf1a-0596-48dc-9e5b-787e99b10da8",
   "metadata": {},
   "source": [
    "## Prediction"
   ]
  },
  {
   "cell_type": "code",
   "execution_count": null,
   "id": "23aa98f5-b56a-435e-96ca-a416014f90f8",
   "metadata": {},
   "outputs": [],
   "source": [
    "# Run \n",
    "!python /home/monsurali/Downloads/YOLOV7\\ training-2/yolov7/detect.py --weights /home/monsurali/Downloads/YOLOV7\\ training-2/yolov7/runs/train/exp/weights/best.pt  --source /home/monsurali/Downloads/YOLOV7\\ training-2/data/images/test"
   ]
  },
  {
   "cell_type": "code",
   "execution_count": null,
   "id": "729738f7-00df-4834-b2e3-2c7bcc118d81",
   "metadata": {},
   "outputs": [],
   "source": [
    "# Load fine-tuned custom model\n",
    "model = torch.hub.load('/home/monsurali/Downloads/YOLOV7 training-2/yolov7', 'custom', '/home/monsurali/Downloads/YOLOV7 training-2/yolov7/runs/train/exp/weights/best.pt',force_reload=True, source='local',trust_repo=True)"
   ]
  },
  {
   "cell_type": "code",
   "execution_count": null,
   "id": "e2f2134e-4f40-4956-9ee8-77651ff7e893",
   "metadata": {},
   "outputs": [],
   "source": [
    "results = model(\"/home/monsurali/Downloads/YOLOV7 training-2/doc_76.jpg\")"
   ]
  },
  {
   "cell_type": "code",
   "execution_count": null,
   "id": "4ee5d9be-9e85-4278-8e42-364f931dd8ad",
   "metadata": {},
   "outputs": [],
   "source": [
    "results.pandas().xyxy[0]"
   ]
  },
  {
   "cell_type": "code",
   "execution_count": null,
   "id": "1e61f756-5e1d-4e66-8962-889d4d752d3d",
   "metadata": {},
   "outputs": [],
   "source": []
  },
  {
   "cell_type": "code",
   "execution_count": null,
   "id": "afa0b258-b4e5-47fb-8345-28f36096da4d",
   "metadata": {},
   "outputs": [],
   "source": []
  }
 ],
 "metadata": {
  "kernelspec": {
   "display_name": "yolo",
   "language": "python",
   "name": "yolo"
  },
  "language_info": {
   "codemirror_mode": {
    "name": "ipython",
    "version": 3
   },
   "file_extension": ".py",
   "mimetype": "text/x-python",
   "name": "python",
   "nbconvert_exporter": "python",
   "pygments_lexer": "ipython3",
   "version": "3.11.4"
  }
 },
 "nbformat": 4,
 "nbformat_minor": 5
}
